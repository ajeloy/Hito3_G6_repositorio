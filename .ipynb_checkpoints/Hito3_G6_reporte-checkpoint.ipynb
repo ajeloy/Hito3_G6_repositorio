{
 "cells": [
  {
   "cell_type": "markdown",
   "metadata": {
    "id": "mHRBVlCEeB-j"
   },
   "source": [
    "# **Proyecto análisis de datos Hotel Booking**\n",
    "Equipo:\n",
    "- Alex Muñoz \n",
    "- Giselle Acuña \n",
    "- Bastián Barrientos\n",
    "\n",
    "Fecha de entrega: 29-06-2022\n",
    "\n",
    "***Video presentación***: https://www.youtube.com/watch?v=aWp-dJV8cf4\n"
   ]
  },
  {
   "cell_type": "markdown",
   "metadata": {
    "id": "xkhTUmsHTA1O"
   },
   "source": [
    "# **Correcciones al hito 1**\n",
    "- Se cambió la motivación del problema para que se asemejara a como estaba en la presentación del hito 1.\n",
    "- Se cambiaron y reformularon las preguntas para que sean abordables con los conceptos vistos en clases.\n",
    "- En la exploración de datos, los gráficos y medidas se realizaron para que vayan relacionadas con las preguntas planteadas.\n",
    "- Se pusieron como referencias los códigos fuente utilizados para no incurrir en plagio y que el hito sea lo más reproducible posible."
   ]
  },
  {
   "cell_type": "markdown",
   "metadata": {
    "id": "qinZg491SECn"
   },
   "source": [
    "# **Correcciones al hito 2**\n",
    "- Se completó más la propuesta experimental y resultado preliminar para la pregunta 1.\n",
    "- Se arreglo la redacción en algunas partes del reporte."
   ]
  },
  {
   "cell_type": "markdown",
   "metadata": {
    "id": "ytB0F45OUl71"
   },
   "source": [
    "# **Problema y motivación del problema**\n",
    "El equipo de T4 fue contratado para realizar el análisis de un set de datos de reservas hoteleras [3], del cual se espera obtener la mayor información sobre el comportamiento de los huéspedes que reservan y cómo optimizar la ganancia de los hoteles.\n",
    "\n",
    "La motivación de nuestro equipo detrás de este proyecto, es poder tener una mejor comprensión en cuanto al funcionamiento detrás de la industria hotelera desde la reserva.\n",
    "\n",
    "En cuanto a la estructuración trabajamos con dos datasets con la misma estructura, el primer dataset corresponde a un resort hotel y el segundo dataset corresponde a un city hotel.\n",
    "Las dimensiones de estos 2 datasets son: \n",
    "Resort Hotel (H1) - 40,060 observaciones\n",
    "City Hotel (H2) - 79,330 observaciones\n",
    "lo que nos da un total de 119,390 observaciones y 36 columnas.\n",
    "Cada observación representa una reserva de hotel realizada entre el 01 de Julio del 2015 y el 31 de Agosto del 2017.\n",
    "\n",
    "Como es sabido, el análisis descriptivo puede ser aplicado para entender de manera profunda patrones, tendencias y anomalías en los datos. Por lo que el análisis de este dataset en particular nos permite encontrar respuestas a diferentes interrogantes, como la predicción de la cancelación de la reserva, la segmentación de los clientes, la satisfacción de los clientes y la estacionalidad.\n"
   ]
  },
  {
   "cell_type": "markdown",
   "metadata": {
    "id": "qwXC_uExUwjz"
   },
   "source": [
    "# **Preprocesamiento de datos**"
   ]
  },
  {
   "cell_type": "code",
   "execution_count": null,
   "metadata": {
    "colab": {
     "base_uri": "https://localhost:8080/",
     "height": 490
    },
    "id": "bd7RLE7eVLuD",
    "outputId": "2015c532-e892-4b50-ded3-178cd46cccfc"
   },
   "outputs": [
    {
     "data": {
      "text/html": [
       "\n",
       "  <div id=\"df-ab2d552e-381c-4724-9b34-084c976aa66d\">\n",
       "    <div class=\"colab-df-container\">\n",
       "      <div>\n",
       "<style scoped>\n",
       "    .dataframe tbody tr th:only-of-type {\n",
       "        vertical-align: middle;\n",
       "    }\n",
       "\n",
       "    .dataframe tbody tr th {\n",
       "        vertical-align: top;\n",
       "    }\n",
       "\n",
       "    .dataframe thead th {\n",
       "        text-align: right;\n",
       "    }\n",
       "</style>\n",
       "<table border=\"1\" class=\"dataframe\">\n",
       "  <thead>\n",
       "    <tr style=\"text-align: right;\">\n",
       "      <th></th>\n",
       "      <th>hotel</th>\n",
       "      <th>is_canceled</th>\n",
       "      <th>lead_time</th>\n",
       "      <th>arrival_date_year</th>\n",
       "      <th>arrival_date_month</th>\n",
       "      <th>arrival_date_week_number</th>\n",
       "      <th>arrival_date_day_of_month</th>\n",
       "      <th>stays_in_weekend_nights</th>\n",
       "      <th>stays_in_week_nights</th>\n",
       "      <th>adults</th>\n",
       "      <th>...</th>\n",
       "      <th>customer_type</th>\n",
       "      <th>adr</th>\n",
       "      <th>required_car_parking_spaces</th>\n",
       "      <th>total_of_special_requests</th>\n",
       "      <th>reservation_status</th>\n",
       "      <th>reservation_status_date</th>\n",
       "      <th>name</th>\n",
       "      <th>email</th>\n",
       "      <th>phone-number</th>\n",
       "      <th>credit_card</th>\n",
       "    </tr>\n",
       "  </thead>\n",
       "  <tbody>\n",
       "    <tr>\n",
       "      <th>0</th>\n",
       "      <td>Resort Hotel</td>\n",
       "      <td>0</td>\n",
       "      <td>342</td>\n",
       "      <td>2015</td>\n",
       "      <td>July</td>\n",
       "      <td>27</td>\n",
       "      <td>1</td>\n",
       "      <td>0</td>\n",
       "      <td>0</td>\n",
       "      <td>2</td>\n",
       "      <td>...</td>\n",
       "      <td>Transient</td>\n",
       "      <td>0.0</td>\n",
       "      <td>0</td>\n",
       "      <td>0</td>\n",
       "      <td>Check-Out</td>\n",
       "      <td>2015-07-01</td>\n",
       "      <td>Ernest Barnes</td>\n",
       "      <td>Ernest.Barnes31@outlook.com</td>\n",
       "      <td>669-792-1661</td>\n",
       "      <td>************4322</td>\n",
       "    </tr>\n",
       "    <tr>\n",
       "      <th>1</th>\n",
       "      <td>Resort Hotel</td>\n",
       "      <td>0</td>\n",
       "      <td>737</td>\n",
       "      <td>2015</td>\n",
       "      <td>July</td>\n",
       "      <td>27</td>\n",
       "      <td>1</td>\n",
       "      <td>0</td>\n",
       "      <td>0</td>\n",
       "      <td>2</td>\n",
       "      <td>...</td>\n",
       "      <td>Transient</td>\n",
       "      <td>0.0</td>\n",
       "      <td>0</td>\n",
       "      <td>0</td>\n",
       "      <td>Check-Out</td>\n",
       "      <td>2015-07-01</td>\n",
       "      <td>Andrea Baker</td>\n",
       "      <td>Andrea_Baker94@aol.com</td>\n",
       "      <td>858-637-6955</td>\n",
       "      <td>************9157</td>\n",
       "    </tr>\n",
       "    <tr>\n",
       "      <th>2</th>\n",
       "      <td>Resort Hotel</td>\n",
       "      <td>0</td>\n",
       "      <td>7</td>\n",
       "      <td>2015</td>\n",
       "      <td>July</td>\n",
       "      <td>27</td>\n",
       "      <td>1</td>\n",
       "      <td>0</td>\n",
       "      <td>1</td>\n",
       "      <td>1</td>\n",
       "      <td>...</td>\n",
       "      <td>Transient</td>\n",
       "      <td>75.0</td>\n",
       "      <td>0</td>\n",
       "      <td>0</td>\n",
       "      <td>Check-Out</td>\n",
       "      <td>2015-07-02</td>\n",
       "      <td>Rebecca Parker</td>\n",
       "      <td>Rebecca_Parker@comcast.net</td>\n",
       "      <td>652-885-2745</td>\n",
       "      <td>************3734</td>\n",
       "    </tr>\n",
       "    <tr>\n",
       "      <th>3</th>\n",
       "      <td>Resort Hotel</td>\n",
       "      <td>0</td>\n",
       "      <td>13</td>\n",
       "      <td>2015</td>\n",
       "      <td>July</td>\n",
       "      <td>27</td>\n",
       "      <td>1</td>\n",
       "      <td>0</td>\n",
       "      <td>1</td>\n",
       "      <td>1</td>\n",
       "      <td>...</td>\n",
       "      <td>Transient</td>\n",
       "      <td>75.0</td>\n",
       "      <td>0</td>\n",
       "      <td>0</td>\n",
       "      <td>Check-Out</td>\n",
       "      <td>2015-07-02</td>\n",
       "      <td>Laura Murray</td>\n",
       "      <td>Laura_M@gmail.com</td>\n",
       "      <td>364-656-8427</td>\n",
       "      <td>************5677</td>\n",
       "    </tr>\n",
       "    <tr>\n",
       "      <th>4</th>\n",
       "      <td>Resort Hotel</td>\n",
       "      <td>0</td>\n",
       "      <td>14</td>\n",
       "      <td>2015</td>\n",
       "      <td>July</td>\n",
       "      <td>27</td>\n",
       "      <td>1</td>\n",
       "      <td>0</td>\n",
       "      <td>2</td>\n",
       "      <td>2</td>\n",
       "      <td>...</td>\n",
       "      <td>Transient</td>\n",
       "      <td>98.0</td>\n",
       "      <td>0</td>\n",
       "      <td>1</td>\n",
       "      <td>Check-Out</td>\n",
       "      <td>2015-07-03</td>\n",
       "      <td>Linda Hines</td>\n",
       "      <td>LHines@verizon.com</td>\n",
       "      <td>713-226-5883</td>\n",
       "      <td>************5498</td>\n",
       "    </tr>\n",
       "  </tbody>\n",
       "</table>\n",
       "<p>5 rows × 36 columns</p>\n",
       "</div>\n",
       "      <button class=\"colab-df-convert\" onclick=\"convertToInteractive('df-ab2d552e-381c-4724-9b34-084c976aa66d')\"\n",
       "              title=\"Convert this dataframe to an interactive table.\"\n",
       "              style=\"display:none;\">\n",
       "        \n",
       "  <svg xmlns=\"http://www.w3.org/2000/svg\" height=\"24px\"viewBox=\"0 0 24 24\"\n",
       "       width=\"24px\">\n",
       "    <path d=\"M0 0h24v24H0V0z\" fill=\"none\"/>\n",
       "    <path d=\"M18.56 5.44l.94 2.06.94-2.06 2.06-.94-2.06-.94-.94-2.06-.94 2.06-2.06.94zm-11 1L8.5 8.5l.94-2.06 2.06-.94-2.06-.94L8.5 2.5l-.94 2.06-2.06.94zm10 10l.94 2.06.94-2.06 2.06-.94-2.06-.94-.94-2.06-.94 2.06-2.06.94z\"/><path d=\"M17.41 7.96l-1.37-1.37c-.4-.4-.92-.59-1.43-.59-.52 0-1.04.2-1.43.59L10.3 9.45l-7.72 7.72c-.78.78-.78 2.05 0 2.83L4 21.41c.39.39.9.59 1.41.59.51 0 1.02-.2 1.41-.59l7.78-7.78 2.81-2.81c.8-.78.8-2.07 0-2.86zM5.41 20L4 18.59l7.72-7.72 1.47 1.35L5.41 20z\"/>\n",
       "  </svg>\n",
       "      </button>\n",
       "      \n",
       "  <style>\n",
       "    .colab-df-container {\n",
       "      display:flex;\n",
       "      flex-wrap:wrap;\n",
       "      gap: 12px;\n",
       "    }\n",
       "\n",
       "    .colab-df-convert {\n",
       "      background-color: #E8F0FE;\n",
       "      border: none;\n",
       "      border-radius: 50%;\n",
       "      cursor: pointer;\n",
       "      display: none;\n",
       "      fill: #1967D2;\n",
       "      height: 32px;\n",
       "      padding: 0 0 0 0;\n",
       "      width: 32px;\n",
       "    }\n",
       "\n",
       "    .colab-df-convert:hover {\n",
       "      background-color: #E2EBFA;\n",
       "      box-shadow: 0px 1px 2px rgba(60, 64, 67, 0.3), 0px 1px 3px 1px rgba(60, 64, 67, 0.15);\n",
       "      fill: #174EA6;\n",
       "    }\n",
       "\n",
       "    [theme=dark] .colab-df-convert {\n",
       "      background-color: #3B4455;\n",
       "      fill: #D2E3FC;\n",
       "    }\n",
       "\n",
       "    [theme=dark] .colab-df-convert:hover {\n",
       "      background-color: #434B5C;\n",
       "      box-shadow: 0px 1px 3px 1px rgba(0, 0, 0, 0.15);\n",
       "      filter: drop-shadow(0px 1px 2px rgba(0, 0, 0, 0.3));\n",
       "      fill: #FFFFFF;\n",
       "    }\n",
       "  </style>\n",
       "\n",
       "      <script>\n",
       "        const buttonEl =\n",
       "          document.querySelector('#df-ab2d552e-381c-4724-9b34-084c976aa66d button.colab-df-convert');\n",
       "        buttonEl.style.display =\n",
       "          google.colab.kernel.accessAllowed ? 'block' : 'none';\n",
       "\n",
       "        async function convertToInteractive(key) {\n",
       "          const element = document.querySelector('#df-ab2d552e-381c-4724-9b34-084c976aa66d');\n",
       "          const dataTable =\n",
       "            await google.colab.kernel.invokeFunction('convertToInteractive',\n",
       "                                                     [key], {});\n",
       "          if (!dataTable) return;\n",
       "\n",
       "          const docLinkHtml = 'Like what you see? Visit the ' +\n",
       "            '<a target=\"_blank\" href=https://colab.research.google.com/notebooks/data_table.ipynb>data table notebook</a>'\n",
       "            + ' to learn more about interactive tables.';\n",
       "          element.innerHTML = '';\n",
       "          dataTable['output_type'] = 'display_data';\n",
       "          await google.colab.output.renderOutput(dataTable, element);\n",
       "          const docLink = document.createElement('div');\n",
       "          docLink.innerHTML = docLinkHtml;\n",
       "          element.appendChild(docLink);\n",
       "        }\n",
       "      </script>\n",
       "    </div>\n",
       "  </div>\n",
       "  "
      ],
      "text/plain": [
       "          hotel  is_canceled  lead_time  arrival_date_year arrival_date_month  \\\n",
       "0  Resort Hotel            0        342               2015               July   \n",
       "1  Resort Hotel            0        737               2015               July   \n",
       "2  Resort Hotel            0          7               2015               July   \n",
       "3  Resort Hotel            0         13               2015               July   \n",
       "4  Resort Hotel            0         14               2015               July   \n",
       "\n",
       "   arrival_date_week_number  arrival_date_day_of_month  \\\n",
       "0                        27                          1   \n",
       "1                        27                          1   \n",
       "2                        27                          1   \n",
       "3                        27                          1   \n",
       "4                        27                          1   \n",
       "\n",
       "   stays_in_weekend_nights  stays_in_week_nights  adults  ...  customer_type  \\\n",
       "0                        0                     0       2  ...      Transient   \n",
       "1                        0                     0       2  ...      Transient   \n",
       "2                        0                     1       1  ...      Transient   \n",
       "3                        0                     1       1  ...      Transient   \n",
       "4                        0                     2       2  ...      Transient   \n",
       "\n",
       "    adr required_car_parking_spaces total_of_special_requests  \\\n",
       "0   0.0                           0                         0   \n",
       "1   0.0                           0                         0   \n",
       "2  75.0                           0                         0   \n",
       "3  75.0                           0                         0   \n",
       "4  98.0                           0                         1   \n",
       "\n",
       "  reservation_status reservation_status_date            name  \\\n",
       "0          Check-Out              2015-07-01   Ernest Barnes   \n",
       "1          Check-Out              2015-07-01    Andrea Baker   \n",
       "2          Check-Out              2015-07-02  Rebecca Parker   \n",
       "3          Check-Out              2015-07-02    Laura Murray   \n",
       "4          Check-Out              2015-07-03     Linda Hines   \n",
       "\n",
       "                         email  phone-number       credit_card  \n",
       "0  Ernest.Barnes31@outlook.com  669-792-1661  ************4322  \n",
       "1       Andrea_Baker94@aol.com  858-637-6955  ************9157  \n",
       "2   Rebecca_Parker@comcast.net  652-885-2745  ************3734  \n",
       "3            Laura_M@gmail.com  364-656-8427  ************5677  \n",
       "4           LHines@verizon.com  713-226-5883  ************5498  \n",
       "\n",
       "[5 rows x 36 columns]"
      ]
     },
     "execution_count": 187,
     "metadata": {},
     "output_type": "execute_result"
    }
   ],
   "source": [
    "import pandas as pd\n",
    "import matplotlib.pyplot as plt\n",
    "\n",
    "#Se obtienen los datos de reserva de hotel desde un Github personal.\n",
    "datos_reserva_hotel = pd.read_csv ('https://gitlab.com/s2c52/ingenieria-de-datos-t4/-/raw/main/hotel_booking.csv', sep=',')\n",
    "datos_reserva_hotel.head()"
   ]
  },
  {
   "cell_type": "code",
   "execution_count": null,
   "metadata": {
    "colab": {
     "base_uri": "https://localhost:8080/"
    },
    "id": "_3AB8HEy7zNG",
    "outputId": "d0bf3b7e-9a56-41cb-e2d8-01360ef63706"
   },
   "outputs": [
    {
     "name": "stdout",
     "output_type": "stream",
     "text": [
      "Columnas con valores NaN:\n",
      "hotel                                  0\n",
      "is_canceled                            0\n",
      "lead_time                              0\n",
      "arrival_date_year                      0\n",
      "arrival_date_month                     0\n",
      "arrival_date_week_number               0\n",
      "arrival_date_day_of_month              0\n",
      "stays_in_weekend_nights                0\n",
      "stays_in_week_nights                   0\n",
      "adults                                 0\n",
      "children                               4\n",
      "babies                                 0\n",
      "meal                                   0\n",
      "country                              488\n",
      "market_segment                         0\n",
      "distribution_channel                   0\n",
      "is_repeated_guest                      0\n",
      "previous_cancellations                 0\n",
      "previous_bookings_not_canceled         0\n",
      "reserved_room_type                     0\n",
      "assigned_room_type                     0\n",
      "booking_changes                        0\n",
      "deposit_type                           0\n",
      "agent                              16340\n",
      "company                           112593\n",
      "days_in_waiting_list                   0\n",
      "customer_type                          0\n",
      "adr                                    0\n",
      "required_car_parking_spaces            0\n",
      "total_of_special_requests              0\n",
      "reservation_status                     0\n",
      "reservation_status_date                0\n",
      "name                                   0\n",
      "email                                  0\n",
      "phone-number                           0\n",
      "credit_card                            0\n",
      "dtype: int64\n"
     ]
    }
   ],
   "source": [
    "#Se cuentan los valores vacíos en cada columna del dataset [2] y se imprimen los resultados.\n",
    "cantidad_nan = datos_reserva_hotel.isna().sum()\n",
    "print ('Columnas con valores NaN:')\n",
    "print(cantidad_nan)"
   ]
  },
  {
   "cell_type": "code",
   "execution_count": null,
   "metadata": {
    "colab": {
     "base_uri": "https://localhost:8080/"
    },
    "id": "bPRQBes7L9u5",
    "outputId": "ed7fe6a1-8ebb-4972-e192-d5c75988db07"
   },
   "outputs": [
    {
     "data": {
      "text/plain": [
       "hotel                             0.000000\n",
       "is_canceled                       0.000000\n",
       "lead_time                         0.000000\n",
       "arrival_date_year                 0.000000\n",
       "arrival_date_month                0.000000\n",
       "arrival_date_week_number          0.000000\n",
       "arrival_date_day_of_month         0.000000\n",
       "stays_in_weekend_nights           0.000000\n",
       "stays_in_week_nights              0.000000\n",
       "adults                            0.000000\n",
       "children                          0.000034\n",
       "babies                            0.000000\n",
       "meal                              0.000000\n",
       "country                           0.004087\n",
       "market_segment                    0.000000\n",
       "distribution_channel              0.000000\n",
       "is_repeated_guest                 0.000000\n",
       "previous_cancellations            0.000000\n",
       "previous_bookings_not_canceled    0.000000\n",
       "reserved_room_type                0.000000\n",
       "assigned_room_type                0.000000\n",
       "booking_changes                   0.000000\n",
       "deposit_type                      0.000000\n",
       "agent                             0.136862\n",
       "company                           0.943069\n",
       "days_in_waiting_list              0.000000\n",
       "customer_type                     0.000000\n",
       "adr                               0.000000\n",
       "required_car_parking_spaces       0.000000\n",
       "total_of_special_requests         0.000000\n",
       "reservation_status                0.000000\n",
       "reservation_status_date           0.000000\n",
       "name                              0.000000\n",
       "email                             0.000000\n",
       "phone-number                      0.000000\n",
       "credit_card                       0.000000\n",
       "dtype: float64"
      ]
     },
     "execution_count": 189,
     "metadata": {},
     "output_type": "execute_result"
    }
   ],
   "source": [
    "#Se calcula e imprime el porcentaje de valores vacíos en cada columna del dataset [4].\n",
    "porcentaje_nan = cantidad_nan / len(datos_reserva_hotel)\n",
    "porcentaje_nan"
   ]
  },
  {
   "cell_type": "code",
   "execution_count": null,
   "metadata": {
    "id": "WxTD0k4XNG6G"
   },
   "outputs": [],
   "source": [
    "#Al ver los porcentajes, se llega a la conclusión que lo mejor es eliminar la columna company y agent porque tienen un porcentaje relativamente alto de valores vacíos [5].\n",
    "company_aux = datos_reserva_hotel.pop(\"company\")\n",
    "agent_aux = datos_reserva_hotel.pop(\"agent\")"
   ]
  },
  {
   "cell_type": "code",
   "execution_count": null,
   "metadata": {
    "colab": {
     "base_uri": "https://localhost:8080/"
    },
    "id": "VY1EU2We-5JY",
    "outputId": "b3d034b5-e8ad-4af8-9ae7-239b8f95a0b5"
   },
   "outputs": [
    {
     "name": "stdout",
     "output_type": "stream",
     "text": [
      "Nuevas columnas sin valores NaN:\n",
      "hotel                             0\n",
      "is_canceled                       0\n",
      "lead_time                         0\n",
      "arrival_date_year                 0\n",
      "arrival_date_month                0\n",
      "arrival_date_week_number          0\n",
      "arrival_date_day_of_month         0\n",
      "stays_in_weekend_nights           0\n",
      "stays_in_week_nights              0\n",
      "adults                            0\n",
      "children                          0\n",
      "babies                            0\n",
      "meal                              0\n",
      "country                           0\n",
      "market_segment                    0\n",
      "distribution_channel              0\n",
      "is_repeated_guest                 0\n",
      "previous_cancellations            0\n",
      "previous_bookings_not_canceled    0\n",
      "reserved_room_type                0\n",
      "assigned_room_type                0\n",
      "booking_changes                   0\n",
      "deposit_type                      0\n",
      "days_in_waiting_list              0\n",
      "customer_type                     0\n",
      "adr                               0\n",
      "required_car_parking_spaces       0\n",
      "total_of_special_requests         0\n",
      "reservation_status                0\n",
      "reservation_status_date           0\n",
      "name                              0\n",
      "email                             0\n",
      "phone-number                      0\n",
      "credit_card                       0\n",
      "dtype: int64\n"
     ]
    }
   ],
   "source": [
    "#Se reemplazan los valores vacíos en las columnas country y children del dataset con cero [1], debido a su bajo porcentaje de valores vacíos no tendrá un impacto tan grande.\n",
    "datos_reserva_hotel_limpios = datos_reserva_hotel.fillna(0)\n",
    "\n",
    "#Se imprimen una nueva cantidad de valores vacíos [2] para revisar el resultado.\n",
    "nueva_cantidad_nan = datos_reserva_hotel_limpios.isna().sum()\n",
    "print ('Nuevas columnas sin valores NaN:')\n",
    "print(nueva_cantidad_nan)"
   ]
  },
  {
   "cell_type": "markdown",
   "metadata": {
    "id": "CNuzbFaKDHkp"
   },
   "source": [
    "# **Exploración de datos**\n",
    "La exploración de datos se hará para identificar que tipo de cliente que traerá más o menos beneficios a los hoteles.\n",
    "\n",
    "En cuanto a los campos que pueden resultar de interés, hay columnas asociadas a los tipos de personas que reservan, la tarifa media diaria, el tiempo de llegada y la cancelación de la reserva.\n",
    "\n",
    "Campos de interés:\n",
    "- adr: Tarifa media diaria (calculada dividiendo la suma de todas las transacciones de alojamiento por el número total de noches de estancia).\n",
    "- adults: Número de adultos en la reserva.\n",
    "- children: Número de niños en la reserva.\n",
    "- babies: Número de bebés en la reserva.\n",
    "- is_canceled: Valor que indica si la reserva fue cancelada (1) o no (0).\n",
    "- lead_time: Número de días transcurridos entre la fecha de entrada de la reserva en el PMS y la fecha de llegada."
   ]
  },
  {
   "cell_type": "code",
   "execution_count": null,
   "metadata": {
    "colab": {
     "base_uri": "https://localhost:8080/",
     "height": 206
    },
    "id": "rRwhlZbItexd",
    "outputId": "e9f9422e-e679-42b5-9337-a74b565187a7"
   },
   "outputs": [
    {
     "data": {
      "text/html": [
       "\n",
       "  <div id=\"df-a3014c82-a639-4278-8db7-5d02b2b700f3\">\n",
       "    <div class=\"colab-df-container\">\n",
       "      <div>\n",
       "<style scoped>\n",
       "    .dataframe tbody tr th:only-of-type {\n",
       "        vertical-align: middle;\n",
       "    }\n",
       "\n",
       "    .dataframe tbody tr th {\n",
       "        vertical-align: top;\n",
       "    }\n",
       "\n",
       "    .dataframe thead th {\n",
       "        text-align: right;\n",
       "    }\n",
       "</style>\n",
       "<table border=\"1\" class=\"dataframe\">\n",
       "  <thead>\n",
       "    <tr style=\"text-align: right;\">\n",
       "      <th></th>\n",
       "      <th>adults</th>\n",
       "      <th>children</th>\n",
       "      <th>babies</th>\n",
       "      <th>adult_only</th>\n",
       "      <th>adultWithBabies</th>\n",
       "      <th>adultWithChildrens</th>\n",
       "      <th>AdultWithSons</th>\n",
       "    </tr>\n",
       "  </thead>\n",
       "  <tbody>\n",
       "    <tr>\n",
       "      <th>0</th>\n",
       "      <td>2</td>\n",
       "      <td>0.0</td>\n",
       "      <td>0</td>\n",
       "      <td>1</td>\n",
       "      <td>0</td>\n",
       "      <td>0</td>\n",
       "      <td>0</td>\n",
       "    </tr>\n",
       "    <tr>\n",
       "      <th>1</th>\n",
       "      <td>2</td>\n",
       "      <td>0.0</td>\n",
       "      <td>0</td>\n",
       "      <td>1</td>\n",
       "      <td>0</td>\n",
       "      <td>0</td>\n",
       "      <td>0</td>\n",
       "    </tr>\n",
       "    <tr>\n",
       "      <th>2</th>\n",
       "      <td>1</td>\n",
       "      <td>0.0</td>\n",
       "      <td>0</td>\n",
       "      <td>1</td>\n",
       "      <td>0</td>\n",
       "      <td>0</td>\n",
       "      <td>0</td>\n",
       "    </tr>\n",
       "    <tr>\n",
       "      <th>3</th>\n",
       "      <td>1</td>\n",
       "      <td>0.0</td>\n",
       "      <td>0</td>\n",
       "      <td>1</td>\n",
       "      <td>0</td>\n",
       "      <td>0</td>\n",
       "      <td>0</td>\n",
       "    </tr>\n",
       "    <tr>\n",
       "      <th>4</th>\n",
       "      <td>2</td>\n",
       "      <td>0.0</td>\n",
       "      <td>0</td>\n",
       "      <td>1</td>\n",
       "      <td>0</td>\n",
       "      <td>0</td>\n",
       "      <td>0</td>\n",
       "    </tr>\n",
       "  </tbody>\n",
       "</table>\n",
       "</div>\n",
       "      <button class=\"colab-df-convert\" onclick=\"convertToInteractive('df-a3014c82-a639-4278-8db7-5d02b2b700f3')\"\n",
       "              title=\"Convert this dataframe to an interactive table.\"\n",
       "              style=\"display:none;\">\n",
       "        \n",
       "  <svg xmlns=\"http://www.w3.org/2000/svg\" height=\"24px\"viewBox=\"0 0 24 24\"\n",
       "       width=\"24px\">\n",
       "    <path d=\"M0 0h24v24H0V0z\" fill=\"none\"/>\n",
       "    <path d=\"M18.56 5.44l.94 2.06.94-2.06 2.06-.94-2.06-.94-.94-2.06-.94 2.06-2.06.94zm-11 1L8.5 8.5l.94-2.06 2.06-.94-2.06-.94L8.5 2.5l-.94 2.06-2.06.94zm10 10l.94 2.06.94-2.06 2.06-.94-2.06-.94-.94-2.06-.94 2.06-2.06.94z\"/><path d=\"M17.41 7.96l-1.37-1.37c-.4-.4-.92-.59-1.43-.59-.52 0-1.04.2-1.43.59L10.3 9.45l-7.72 7.72c-.78.78-.78 2.05 0 2.83L4 21.41c.39.39.9.59 1.41.59.51 0 1.02-.2 1.41-.59l7.78-7.78 2.81-2.81c.8-.78.8-2.07 0-2.86zM5.41 20L4 18.59l7.72-7.72 1.47 1.35L5.41 20z\"/>\n",
       "  </svg>\n",
       "      </button>\n",
       "      \n",
       "  <style>\n",
       "    .colab-df-container {\n",
       "      display:flex;\n",
       "      flex-wrap:wrap;\n",
       "      gap: 12px;\n",
       "    }\n",
       "\n",
       "    .colab-df-convert {\n",
       "      background-color: #E8F0FE;\n",
       "      border: none;\n",
       "      border-radius: 50%;\n",
       "      cursor: pointer;\n",
       "      display: none;\n",
       "      fill: #1967D2;\n",
       "      height: 32px;\n",
       "      padding: 0 0 0 0;\n",
       "      width: 32px;\n",
       "    }\n",
       "\n",
       "    .colab-df-convert:hover {\n",
       "      background-color: #E2EBFA;\n",
       "      box-shadow: 0px 1px 2px rgba(60, 64, 67, 0.3), 0px 1px 3px 1px rgba(60, 64, 67, 0.15);\n",
       "      fill: #174EA6;\n",
       "    }\n",
       "\n",
       "    [theme=dark] .colab-df-convert {\n",
       "      background-color: #3B4455;\n",
       "      fill: #D2E3FC;\n",
       "    }\n",
       "\n",
       "    [theme=dark] .colab-df-convert:hover {\n",
       "      background-color: #434B5C;\n",
       "      box-shadow: 0px 1px 3px 1px rgba(0, 0, 0, 0.15);\n",
       "      filter: drop-shadow(0px 1px 2px rgba(0, 0, 0, 0.3));\n",
       "      fill: #FFFFFF;\n",
       "    }\n",
       "  </style>\n",
       "\n",
       "      <script>\n",
       "        const buttonEl =\n",
       "          document.querySelector('#df-a3014c82-a639-4278-8db7-5d02b2b700f3 button.colab-df-convert');\n",
       "        buttonEl.style.display =\n",
       "          google.colab.kernel.accessAllowed ? 'block' : 'none';\n",
       "\n",
       "        async function convertToInteractive(key) {\n",
       "          const element = document.querySelector('#df-a3014c82-a639-4278-8db7-5d02b2b700f3');\n",
       "          const dataTable =\n",
       "            await google.colab.kernel.invokeFunction('convertToInteractive',\n",
       "                                                     [key], {});\n",
       "          if (!dataTable) return;\n",
       "\n",
       "          const docLinkHtml = 'Like what you see? Visit the ' +\n",
       "            '<a target=\"_blank\" href=https://colab.research.google.com/notebooks/data_table.ipynb>data table notebook</a>'\n",
       "            + ' to learn more about interactive tables.';\n",
       "          element.innerHTML = '';\n",
       "          dataTable['output_type'] = 'display_data';\n",
       "          await google.colab.output.renderOutput(dataTable, element);\n",
       "          const docLink = document.createElement('div');\n",
       "          docLink.innerHTML = docLinkHtml;\n",
       "          element.appendChild(docLink);\n",
       "        }\n",
       "      </script>\n",
       "    </div>\n",
       "  </div>\n",
       "  "
      ],
      "text/plain": [
       "   adults  children  babies  adult_only  adultWithBabies  adultWithChildrens  \\\n",
       "0       2       0.0       0           1                0                   0   \n",
       "1       2       0.0       0           1                0                   0   \n",
       "2       1       0.0       0           1                0                   0   \n",
       "3       1       0.0       0           1                0                   0   \n",
       "4       2       0.0       0           1                0                   0   \n",
       "\n",
       "   AdultWithSons  \n",
       "0              0  \n",
       "1              0  \n",
       "2              0  \n",
       "3              0  \n",
       "4              0  "
      ]
     },
     "execution_count": 192,
     "metadata": {},
     "output_type": "execute_result"
    }
   ],
   "source": [
    "import numpy as np\n",
    "#Se busca crear nuevos campos a partir de algunos existentes en el dataset [6], esto es con el fin de diferenciar el tipo de cliente que hace una reserva en los hoteles.\n",
    "\n",
    "#Se establecen las condiciones para crear el campo adult_only a partir de los campos children y babies.\n",
    "condiciones_adultos = [\n",
    "    (datos_reserva_hotel_limpios['children'] == 0) & (datos_reserva_hotel_limpios['babies'] == 0),\n",
    "    (datos_reserva_hotel_limpios['children'] != 0) | (datos_reserva_hotel_limpios['babies'] != 0)\n",
    "]\n",
    "\n",
    "#Se establecen las condiciones para crear el campo adultWithBabies a partir de los campos children y babies.\n",
    "condiciones_bebes = [\n",
    "    (datos_reserva_hotel_limpios['children'] == 0) & (datos_reserva_hotel_limpios['babies'] > 0),\n",
    "    (datos_reserva_hotel_limpios['children'] != 0) | (datos_reserva_hotel_limpios['babies'] == 0)\n",
    "]\n",
    "\n",
    "#Se establecen las condiciones para crear el campo adultWithChildrens a partir de los campos children y babies.\n",
    "condiciones_ninios = [\n",
    "    (datos_reserva_hotel_limpios['children'] > 0) & (datos_reserva_hotel_limpios['babies'] == 0),\n",
    "    (datos_reserva_hotel_limpios['children'] == 0) | (datos_reserva_hotel_limpios['babies'] != 0)\n",
    "]\n",
    "\n",
    "#Se establecen las condiciones para crear el campo AdultWithSons a partir de los campos children y babies.\n",
    "condiciones_hijos = [\n",
    "    (datos_reserva_hotel_limpios['children'] > 0) & (datos_reserva_hotel_limpios['babies'] > 0),\n",
    "    (datos_reserva_hotel_limpios['children'] == 0) & (datos_reserva_hotel_limpios['babies'] == 0)\n",
    "]\n",
    "\n",
    "#Se definen los valores que tomarán las nuevas columnas.\n",
    "valores = [1,0]\n",
    "\n",
    "#Se crean los nuevos campos.\n",
    "datos_reserva_hotel_limpios['adult_only'] = np.select(condiciones_adultos, valores)\n",
    "datos_reserva_hotel_limpios['adultWithBabies'] = np.select(condiciones_bebes, valores)\n",
    "datos_reserva_hotel_limpios['adultWithChildrens'] = np.select(condiciones_ninios, valores)\n",
    "datos_reserva_hotel_limpios['AdultWithSons'] = np.select(condiciones_hijos, valores)\n",
    "\n",
    "#Se imprime una muestra de los campos resultantes y de las columnas involucradas en su creación.\n",
    "datos_reserva_hotel_limpios[['adults', 'children', 'babies', 'adult_only', 'adultWithBabies', 'adultWithChildrens', 'AdultWithSons']].head()"
   ]
  },
  {
   "cell_type": "code",
   "execution_count": null,
   "metadata": {
    "colab": {
     "base_uri": "https://localhost:8080/",
     "height": 350
    },
    "id": "sHmExZZq0EEe",
    "outputId": "a5898c99-4f3c-47dd-f16f-65da341d35d1"
   },
   "outputs": [
    {
     "data": {
      "image/png": "[encoded data removed]",
      "text/plain": [
       "<Figure size 720x360 with 1 Axes>"
      ]
     },
     "metadata": {
      "needs_background": "light"
     },
     "output_type": "display_data"
    }
   ],
   "source": [
    "import matplotlib.pyplot as plt\n",
    "\n",
    "#Se hace un gráfico de barras para visualizar el total de registros por cada tipo de cliente [9].\n",
    "\n",
    "#Se obtiene el total de registros en el dataset para cada tipo de cliente.\n",
    "total_solo_adultos = datos_reserva_hotel_limpios['adult_only'].sum()\n",
    "total_adultos_bebes = datos_reserva_hotel_limpios['adultWithBabies'].sum()\n",
    "total_adultos_ninios = datos_reserva_hotel_limpios['adultWithChildrens'].sum()\n",
    "total_adultos_hijos = datos_reserva_hotel_limpios['AdultWithSons'].sum()\n",
    "\n",
    "#Se crea un nuevo dataset con el registros por tipo de cliente.\n",
    "datos = {'Solo adultos':total_solo_adultos, 'Adultos con bebes':total_adultos_bebes, 'Adultos con niños':total_adultos_ninios, 'Adultos con bebes y niños':total_adultos_hijos}\n",
    "tipo_cliente  = list(datos.keys())\n",
    "total_tipo_cliente = list(datos.values())\n",
    "  \n",
    "fig = plt.figure(figsize = (10, 5))\n",
    " \n",
    "#Se crea el gráfico de barras.\n",
    "plt.bar(tipo_cliente, total_tipo_cliente, color ='blue',width = 0.4)\n",
    " \n",
    "plt.xlabel(\"Tipos de cliente\")\n",
    "plt.ylabel(\"N° de registros\")\n",
    "plt.title(\"Cantidad de de registros por tipo de cliente\")\n",
    "plt.show()"
   ]
  },
  {
   "cell_type": "markdown",
   "metadata": {
    "id": "-gmmW5HwFJ3W"
   },
   "source": [
    "A partir del gráfico observado, se puede ver que la mayoría de las reservas se componen por adultos solamente, siendo este el tipo de cliente más repetido. A continuación, se verá que tipo de cliente beneficia más a los hoteles."
   ]
  },
  {
   "cell_type": "code",
   "execution_count": null,
   "metadata": {
    "colab": {
     "base_uri": "https://localhost:8080/"
    },
    "id": "QgeeTSWy70Sk",
    "outputId": "7a91f3c3-1f0d-4411-edd2-c45ba0216604"
   },
   "outputs": [
    {
     "name": "stdout",
     "output_type": "stream",
     "text": [
      "Promedio de tarifa diaria solo adultos: 97.37077704483092\n",
      "Promedio de tarifa diaria adultos con bebes: 112.22223719676549\n",
      "Promedio de tarifa diaria adultos con niños: 158.20546405228757\n",
      "Promedio de tarifa diaria adultos con bebes y niños: 152.09565714285714\n"
     ]
    }
   ],
   "source": [
    "#Se calcula el promedio de la tarifa diaria por cada categoría de cliente [7].\n",
    "prom_tarifa_solo_adultos = datos_reserva_hotel_limpios.loc[datos_reserva_hotel_limpios['adult_only'] == 1, 'adr'].mean()\n",
    "prom_tarifa_adultos_bebes = datos_reserva_hotel_limpios.loc[datos_reserva_hotel_limpios['adultWithBabies'] == 1, 'adr'].mean()\n",
    "prom_tarifa_adultos_ninios = datos_reserva_hotel_limpios.loc[datos_reserva_hotel_limpios['adultWithChildrens'] == 1, 'adr'].mean()\n",
    "prom_tarifa_adultos_hijos = datos_reserva_hotel_limpios.loc[datos_reserva_hotel_limpios['AdultWithSons'] == 1, 'adr'].mean()\n",
    "\n",
    "print('Promedio de tarifa diaria solo adultos: '+str(prom_tarifa_solo_adultos))\n",
    "print('Promedio de tarifa diaria adultos con bebes: '+str(prom_tarifa_adultos_bebes))\n",
    "print('Promedio de tarifa diaria adultos con niños: '+str(prom_tarifa_adultos_ninios))\n",
    "print('Promedio de tarifa diaria adultos con bebes y niños: '+str(prom_tarifa_adultos_hijos))\n"
   ]
  },
  {
   "cell_type": "markdown",
   "metadata": {
    "id": "n9FPyBBZqZV4"
   },
   "source": [
    "A partir de los resultados, podemos concluir que los adultos acompañados por niños tienen una tarifa diaria superior que cuando van adultos solamente, los hoteles probablemente deberían atraer más adultos acompañados de niños y/o bebés, teniendo en cuenta además que la mayoría de las reservas son solo para adultos."
   ]
  },
  {
   "cell_type": "code",
   "execution_count": null,
   "metadata": {
    "colab": {
     "base_uri": "https://localhost:8080/"
    },
    "id": "mJGc1EAZnL62",
    "outputId": "d6d4336d-aeef-44bd-809d-132ef0add8bc"
   },
   "outputs": [
    {
     "name": "stdout",
     "output_type": "stream",
     "text": [
      "Promedio de dias de llegada solo adultos: 105.3226026277054\n",
      "Promedio de dias de llegada adultos con bebes: 79.75471698113208\n",
      "Promedio de dias de llegada adultos con niños: 89.73761140819964\n",
      "Promedio de dias de llegada adultos con bebes y niños: 68.61714285714285\n"
     ]
    }
   ],
   "source": [
    "#Se calcula el promedio de días de llegada por cada categoría de cliente [7].\n",
    "prom_tiempo_solo_adultos = datos_reserva_hotel_limpios.loc[datos_reserva_hotel_limpios['adult_only'] == 1, 'lead_time'].mean()\n",
    "prom_tiempo_adultos_bebes = datos_reserva_hotel_limpios.loc[datos_reserva_hotel_limpios['adultWithBabies'] == 1, 'lead_time'].mean()\n",
    "prom_tiempo_adultos_ninios = datos_reserva_hotel_limpios.loc[datos_reserva_hotel_limpios['adultWithChildrens'] == 1, 'lead_time'].mean()\n",
    "prom_tiempo_adultos_hijos = datos_reserva_hotel_limpios.loc[datos_reserva_hotel_limpios['AdultWithSons'] == 1, 'lead_time'].mean()\n",
    "\n",
    "print('Promedio de dias de llegada solo adultos: '+str(prom_tiempo_solo_adultos))\n",
    "print('Promedio de dias de llegada adultos con bebes: '+str(prom_tiempo_adultos_bebes))\n",
    "print('Promedio de dias de llegada adultos con niños: '+str(prom_tiempo_adultos_ninios))\n",
    "print('Promedio de dias de llegada adultos con bebes y niños: '+str(prom_tiempo_adultos_hijos))"
   ]
  },
  {
   "cell_type": "markdown",
   "metadata": {
    "id": "Y9MhUH_dsuuk"
   },
   "source": [
    "A partir de los resultados, podemos concluir que cuando hay una reserva solamente para adultos suele haber un tiempo de llegada superior a cuando van acompañados de niños y/o bebés. Por lo cual, nuevamente es conveniente para los hoteles atraer adultos acompañados de niños y/o bebés."
   ]
  },
  {
   "cell_type": "code",
   "execution_count": null,
   "metadata": {
    "id": "MQ6zilf6pxvs"
   },
   "outputs": [],
   "source": [
    "#Se busca un nuevo campo a partir de algunos existentes en el dataset [6], esto es con el fin de diferenciar el futuro gráfico de cajas y bigotes por tipo de cliente.\n",
    "\n",
    "#Se establecen las condiciones para crear el campo client_type a partir de los campos adult_only, adultWithBabies, adultWithChildrens y AdultWithSons.\n",
    "condiciones_tipo_cliente = [\n",
    "    (datos_reserva_hotel_limpios['adult_only'] == 1),\n",
    "    (datos_reserva_hotel_limpios['adultWithBabies'] == 1),\n",
    "    (datos_reserva_hotel_limpios['adultWithChildrens'] == 1),\n",
    "    (datos_reserva_hotel_limpios['AdultWithSons'] == 1)\n",
    "]\n",
    "\n",
    "#Se definen los valores que tomará el nuevo campo.\n",
    "valores_tipo_cliente = ['Solo adultos', 'Con bebes', 'Con niños', 'Con bebes y niños']\n",
    "\n",
    "#Se crea el nuevo campo client_type.\n",
    "datos_reserva_hotel_limpios['client_type'] = np.select(condiciones_tipo_cliente, valores_tipo_cliente)"
   ]
  },
  {
   "cell_type": "code",
   "execution_count": null,
   "metadata": {
    "colab": {
     "base_uri": "https://localhost:8080/",
     "height": 442
    },
    "id": "upa6L6Paleud",
    "outputId": "6707c965-a443-49bd-f7f5-a237aee3cb86"
   },
   "outputs": [
    {
     "name": "stderr",
     "output_type": "stream",
     "text": [
      "/usr/local/lib/python3.7/dist-packages/matplotlib/cbook/__init__.py:1376: VisibleDeprecationWarning: Creating an ndarray from ragged nested sequences (which is a list-or-tuple of lists-or-tuples-or ndarrays with different lengths or shapes) is deprecated. If you meant to do this, you must specify 'dtype=object' when creating the ndarray.\n",
      "  X = np.atleast_1d(X.T if isinstance(X, np.ndarray) else np.asarray(X))\n"
     ]
    },
    {
     "data": {
      "image/png": "[encoded data removed]",
      "text/plain": [
       "<Figure size 432x288 with 1 Axes>"
      ]
     },
     "metadata": {
      "needs_background": "light"
     },
     "output_type": "display_data"
    }
   ],
   "source": [
    "\n",
    "#Se crea el gráfico de cajas y bigotes del tiempo de llegada de cada tipo de cliente una vez hecha la reserva [8].\n",
    "boxplot = datos_reserva_hotel_limpios.boxplot(column=['lead_time'],by=\"client_type\",grid=False, rot=45, fontsize=13)\n",
    "boxplot.plot()\n",
    "\n",
    "plt.show()"
   ]
  },
  {
   "cell_type": "markdown",
   "metadata": {
    "id": "cJmmpUzivlsN"
   },
   "source": [
    "A partir de estos resultados, se pueden apreciar los valores atipicos de cada tipo de cliente. Siendo las reservas hechas solamente por adultos las que tienen una mayor cantidad de valores atípicos y con una medida más alejada de la media. Por lo cual, se puede concluir que la gran cantidad de outliers existentes pudo haber afectado la veracidad del promedio, dándole un valor relativamente alto al tipo de cliente: solo adultos."
   ]
  },
  {
   "cell_type": "code",
   "execution_count": null,
   "metadata": {
    "colab": {
     "base_uri": "https://localhost:8080/"
    },
    "id": "YqFkA_55B9J2",
    "outputId": "11ee51aa-dc13-4ecb-c1a5-ab9227aa690b"
   },
   "outputs": [
    {
     "data": {
      "text/plain": [
       "total_of_special_requests        -0.234658\n",
       "required_car_parking_spaces      -0.195498\n",
       "booking_changes                  -0.144381\n",
       "is_repeated_guest                -0.084793\n",
       "previous_bookings_not_canceled   -0.057358\n",
       "babies                           -0.032491\n",
       "adultWithBabies                  -0.031306\n",
       "AdultWithSons                    -0.013974\n",
       "arrival_date_day_of_month        -0.006130\n",
       "stays_in_weekend_nights          -0.001791\n",
       "adultWithChildrens               -0.001698\n",
       "children                          0.005036\n",
       "arrival_date_week_number          0.008148\n",
       "adult_only                        0.012776\n",
       "arrival_date_year                 0.016660\n",
       "stays_in_week_nights              0.024765\n",
       "adr                               0.047557\n",
       "days_in_waiting_list              0.054186\n",
       "adults                            0.060017\n",
       "previous_cancellations            0.110133\n",
       "lead_time                         0.293123\n",
       "is_canceled                       1.000000\n",
       "Name: is_canceled, dtype: float64"
      ]
     },
     "execution_count": 198,
     "metadata": {},
     "output_type": "execute_result"
    }
   ],
   "source": [
    "#También podemos ver la correlación del campo is_canceled con los demás campos, de esta manera podemos ver que atributos influyen más en la cancelación.\n",
    "datos_reserva_hotel_limpios.corr()['is_canceled'].sort_values()"
   ]
  },
  {
   "cell_type": "markdown",
   "metadata": {
    "id": "a3mX5-iOU2Iq"
   },
   "source": [
    "# **Preguntas y problemas**\n",
    "\n",
    "- ¿De qué manera se podría predecir la cancelación de una reserva por parte del cliente a partir de los datos disponibles? ¿Qué beneficios aportará a los hoteles esta predicción?\n",
    "- ¿Qué tipo de cliente (adultos, adultos con niños, adultos con bebés, etc) produce una mayor tarifa diaria para los hoteles (campo adr)? ¿Qué beneficios aportaría a los hoteles esta información?\n",
    "- ¿Qué tipo de cliente tiene un tiempo de llegada mayor luego de realizar la reserva a un hotel? ¿Sería de utilidad esta información para los hoteles?\n",
    "- ¿A qué tipo de cliente deberían dirigirse los hoteles para mejorar sus ingresos?"
   ]
  },
  {
   "cell_type": "markdown",
   "metadata": {
    "id": "CHV0Q-8IU9di"
   },
   "source": [
    "# **Propuesta experimental**\n",
    "\n",
    "Para responder la pregunta orientada a la predicción de si una reserva será cancelada, se implementará un modelo de clasificación supervisada. Se hará de esta manera ya que el objetivo es que el modelo aprenda los patrones presentes en los datos, con el fin de predecir la cancelación de reserva en distintos datasets.\n",
    "\n",
    "En cuanto a los modelos que se probarán en el dataset, se optará por:\n",
    "- Árbol de decisión: Este modelo tiene la ventaja de que es relativamente fácil de entender e interpretar, además puede analizar atributos cualitativos y cuantitativos para lograr la clasificación. En el presente caso, se analizarán los datos cuantitativos del dataset solamente.\n",
    "- Naïve Bayes: Este modelo suele ser usado para realizar clasificaciones binarias, o sea de 2 clases posibles. En este caso, se opta por utilizar este modelo debido a que dentro de sus características se encuentra su robustez ante los valores ruidosos y ante atributos irrelevantes. Siendo estas 2 características presentes en algunos campos del dataset, como el ruido que hay en la columna lead y los valores irrelevantes al ser reemplazados por cero en la limpieza.\n",
    "- SVM: El modelo Support Vector Machines es utilizado para clasificación, regresión y detección de valores atípicos. Se usará en este dataset porque es eficaz cuando hay grandes dimensiones y es eficiente en memoria.\n",
    "\n",
    "Aunque se pudo haber probado el algoritmo KNN, se optó por ignorarlo ya que funciona mal cuando hay una alta dimensionalidad en el dataset y es más costoso en potencia y tiempo. Cabe destacar que se probó el algoritmo KNN y se cayó el entorno Google Colab por falta de memoria RAM.\n",
    "\n",
    "Además, se gestionará el balance de clases en el conjunto de entrenamiento aplicando oversampling y subsampling cuando sea necesario. De esta manera, se reducirá el posible sesgo del modelo al hacer predicciones en nuevos datos.\n",
    "\n",
    "Finalmente, para comparar y evaluar estos modelos planteados, se hará uso de las métricas vistas en clases como: Accuracy, Precision, Recall, F1."
   ]
  },
  {
   "cell_type": "markdown",
   "metadata": {
    "id": "ceW8GQR9a5kg"
   },
   "source": [
    "# **Resultado preliminar**"
   ]
  },
  {
   "cell_type": "markdown",
   "metadata": {
    "id": "ZEySer1pAZQZ"
   },
   "source": [
    "Primero se revisa el conjunto de datos con tal de ver su distribución de clases en la columna objetivo a predecir.\n",
    "\n"
   ]
  },
  {
   "cell_type": "code",
   "execution_count": null,
   "metadata": {
    "colab": {
     "base_uri": "https://localhost:8080/"
    },
    "id": "CnKXUFLBkzjC",
    "outputId": "60c77653-e3d6-4980-e7b9-bef23b82b9c0"
   },
   "outputs": [
    {
     "name": "stdout",
     "output_type": "stream",
     "text": [
      "Cantidad de instancias por clase en el conjunto de entrenamiento:\n",
      "Clase 1: 22112\n",
      "Clase 0: 37583\n"
     ]
    }
   ],
   "source": [
    "from sklearn.model_selection import train_test_split\n",
    "from sklearn.tree import DecisionTreeClassifier\n",
    "from sklearn.metrics import accuracy_score\n",
    "from sklearn.metrics import precision_score\n",
    "from sklearn.metrics import recall_score\n",
    "from sklearn.metrics import f1_score\n",
    "from sklearn.svm import SVC\n",
    "from sklearn.svm import LinearSVC\n",
    "from sklearn.naive_bayes import GaussianNB \n",
    "\n",
    "#Se  filtran los datos de reserva para extraer solo los valores cuantitativos.\n",
    "datos_reserva_solo_numeros = datos_reserva_hotel_limpios.select_dtypes(include= np.number)\n",
    "\n",
    "#Se establecen los conjuntos de prueba y entrenamiento, asignándo un porcentaje de prueba del 50%. \n",
    "#Cabe mencionar que no se excluye la columna objetivo en los datos de entrada porque se usará en los muestreos siguientes.\n",
    "X_train, X_test, y_train, y_test = train_test_split(datos_reserva_solo_numeros, y, test_size=0.5, random_state=0, stratify=y)\n",
    "\n",
    "print(\"Cantidad de instancias por clase en el conjunto de entrenamiento:\")\n",
    "print(\"Clase 1: \" + str((y_train==1).sum()))\n",
    "print(\"Clase 0: \" + str((y_train==0).sum()))"
   ]
  },
  {
   "cell_type": "markdown",
   "metadata": {
    "id": "KCUNn5qJBK0o"
   },
   "source": [
    "Se puede ver que en el conjunto de entrenamiento la clase 0 es predominante sobre la clase 1, lo cual puede producir predicciones más sesgadas cuando el modelo ya está entrenado. Para tratar el desbalanceo entre clases se hizo uso del código fuente que otorgó el profesor en el laboratorio 5.\n",
    "\n"
   ]
  },
  {
   "cell_type": "code",
   "execution_count": null,
   "metadata": {
    "colab": {
     "base_uri": "https://localhost:8080/"
    },
    "id": "zXJ-okBLk0KD",
    "outputId": "34f67c40-bc7a-451c-d943-9de845fcbf2f"
   },
   "outputs": [
    {
     "name": "stdout",
     "output_type": "stream",
     "text": [
      "Distribución de clases usando (over/sub) sampling: \n",
      "\n",
      "Datos sobre muestreados en la clase '1'\n",
      "1    37583\n",
      "0    37583\n",
      "Name: is_canceled, dtype: int64\n",
      "\n",
      "Datos sub muestreados en la clase'0'\n",
      "1    22112\n",
      "0    22112\n",
      "Name: is_canceled, dtype: int64\n"
     ]
    }
   ],
   "source": [
    "#Se obtiene la diferencia entre las clases para poder balancearlas.\n",
    "clase0 = y_train.shape[0] - y_train.sum()\n",
    "clase1 = y_train.sum()\n",
    "tamanio = clase0 - clase1\n",
    "\n",
    "#Se realiza un sub y sobre muestreo en los datos de entrenamiento.\n",
    "print(\"Distribución de clases usando (over/sub) sampling: \\n\")\n",
    "X_train = X_train.reset_index(drop=True)\n",
    "\n",
    "#Se realiza oversampling sobre la clase 1 porque que tiene menos muestras\n",
    "idx = np.random.choice(X_train[X_train['is_canceled'] == 1].index, size=tamanio)\n",
    "datos_sobre_muestra = pd.concat([X_train, X_train.iloc[idx]])\n",
    "print(\"Datos sobre muestreados en la clase '1'\")\n",
    "print(datos_sobre_muestra['is_canceled'].value_counts())\n",
    "print()\n",
    "\n",
    "\n",
    "#Se realiza sumsampling sobre la clase 0 porque que tiene más muestras\n",
    "idx = np.random.choice(X_train.loc[X_train.is_canceled == 0].index, size=tamanio, replace=False)\n",
    "datos_sub_muestra = X_train.drop(X_train.iloc[idx].index)\n",
    "print(\"Datos sub muestreados en la clase'0'\")\n",
    "print(datos_sub_muestra['is_canceled'].value_counts())"
   ]
  },
  {
   "cell_type": "markdown",
   "metadata": {
    "id": "WY_MSihRCPnw"
   },
   "source": [
    "Una vez obtenidos los datos sobre y sub muestreados, se particionan correctamente los datos de prueba y entrenamiento en cada conjunto, excluyendo la columna is_canceled para los datos de entrada e incluyendo esa columna solamente para los datos objetivo."
   ]
  },
  {
   "cell_type": "code",
   "execution_count": null,
   "metadata": {
    "id": "E-W5mt-cmPeq"
   },
   "outputs": [],
   "source": [
    "#Datos de prueba.\n",
    "y_test = X_test['is_canceled']\n",
    "X_test = X_test.loc[:, X_test.columns != 'is_canceled']\n",
    "\n",
    "# datos entrenamiento \"originales\"\n",
    "X_orig = X_train.loc[:, X_train.columns != 'is_canceled']\n",
    "y_orig = X_train['is_canceled']\n",
    "\n",
    "# datos entrenamiento \"oversampleados\" \n",
    "X_over = datos_sobre_muestra.loc[:, datos_sobre_muestra.columns != 'is_canceled']\n",
    "y_over = datos_sobre_muestra['is_canceled']\n",
    "\n",
    "# datos entrenamiento \"subsampleados\"\n",
    "X_subs = datos_sub_muestra.loc[:, datos_sub_muestra.columns != 'is_canceled']\n",
    "y_subs = datos_sub_muestra['is_canceled']"
   ]
  },
  {
   "cell_type": "markdown",
   "metadata": {
    "id": "3mSFvZrU9tmB"
   },
   "source": [
    "Una vez que se tienen los distintos conjuntos de datos definidos, se pueden probar los distintos modelo en dichos datos. El primer modelo a implementar será el Árbol de decisión, se usará el código fuente otorgado en los laboratorios hechos por el profesor."
   ]
  },
  {
   "cell_type": "code",
   "execution_count": null,
   "metadata": {
    "colab": {
     "base_uri": "https://localhost:8080/"
    },
    "id": "BZLmlXqJoKUR",
    "outputId": "fdb328a9-8df1-4511-cb4e-e1c95efaac5d"
   },
   "outputs": [
    {
     "name": "stdout",
     "output_type": "stream",
     "text": [
      "Datos originales\n",
      "Puntaje de métricas Árbol de decisión con datos originales:\n",
      "Accuracy: 0.7932992712957534\n",
      "Precision: 0.7181960258986381\n",
      "Recall: 0.7273878437047757\n",
      "F1: 0.722762711483587\n",
      "\n",
      "Datos Sobre muestreados\n",
      "Puntaje de métricas Árbol de decisión con datos sobre muestreados:\n",
      "Accuracy: 0.7907027389228578\n",
      "Precision: 0.7144003566651805\n",
      "Recall: 0.7246743849493488\n",
      "F1: 0.7195006959723408\n",
      "\n",
      "Datos sub muestreados\n",
      "Puntaje de métricas Árbol de decisión con datos sub muestreados:\n",
      "Accuracy: 0.7686070860206048\n",
      "Precision: 0.6600208244957773\n",
      "Recall: 0.7740141099855282\n",
      "F1: 0.7124867306371376\n",
      "\n"
     ]
    }
   ],
   "source": [
    "print(\"Datos originales\")\n",
    "\n",
    "#Se crea el modelo Árbol de Decisión.\n",
    "arbol_orig = DecisionTreeClassifier()\n",
    "\n",
    "#Se entrena el modelo con los datos del originales dataset.\n",
    "arbol_orig.fit(X_orig, y_orig)\n",
    "\n",
    "#Se predicen los valores a partir del entrenamiento del modelo.\n",
    "pred_arbol = arbol_orig.predict(X_test)\n",
    "\n",
    "print(\"Puntaje de métricas Árbol de decisión con datos originales:\")\n",
    "print(\"Accuracy:\",accuracy_score(y_test, pred_arbol))\n",
    "print(\"Precision:\",precision_score(y_test, pred_arbol))\n",
    "print(\"Recall:\",recall_score(y_test, pred_arbol))\n",
    "print(\"F1:\",f1_score(y_test, pred_arbol))\n",
    "print()\n",
    "\n",
    "print(\"Datos Sobre muestreados\")\n",
    "\n",
    "#Se crea el modelo Árbol de Decisión.\n",
    "arbol_over = DecisionTreeClassifier()\n",
    "\n",
    "#Se entrena el modelo con los datos sobre muestreados del dataset.\n",
    "arbol_over.fit(X_over, y_over)\n",
    "\n",
    "#Se predicen los valores a partir del entrenamiento del modelo.\n",
    "pred_arbol_over = arbol_over.predict(X_test)\n",
    "\n",
    "print(\"Puntaje de métricas Árbol de decisión con datos sobre muestreados:\")\n",
    "print(\"Accuracy:\",accuracy_score(y_test, pred_arbol_over))\n",
    "print(\"Precision:\",precision_score(y_test, pred_arbol_over))\n",
    "print(\"Recall:\",recall_score(y_test, pred_arbol_over))\n",
    "print(\"F1:\",f1_score(y_test, pred_arbol_over))\n",
    "print()\n",
    "\n",
    "print(\"Datos sub muestreados\")\n",
    "\n",
    "#Se crea el modelo Árbol de Decisión.\n",
    "arbol_sub = DecisionTreeClassifier()\n",
    "\n",
    "#Se entrena el modelo con los datos sub muestreados del dataset.\n",
    "arbol_sub.fit(X_subs, y_subs)\n",
    "\n",
    "#Se predicen los valores a partir del entrenamiento del modelo.\n",
    "pred_arbol_sub = arbol_sub.predict(X_test)\n",
    "\n",
    "print(\"Puntaje de métricas Árbol de decisión con datos sub muestreados:\")\n",
    "print(\"Accuracy:\",accuracy_score(y_test, pred_arbol_sub))\n",
    "print(\"Precision:\",precision_score(y_test, pred_arbol_sub))\n",
    "print(\"Recall:\",recall_score(y_test, pred_arbol_sub))\n",
    "print(\"F1:\",f1_score(y_test, pred_arbol_sub))\n",
    "print()"
   ]
  },
  {
   "cell_type": "markdown",
   "metadata": {
    "id": "KhH8dtX8NhZm"
   },
   "source": [
    "El modelo Árbol de clasificación en cada conjunto de entrenamiento tiene resultados parecidos en las métricas, por un margen muy pequeño dió mejores resultados en los datos de entrenamiento originales. Por lo cual, se elige el modelo entrenado con los datos originales."
   ]
  },
  {
   "cell_type": "markdown",
   "metadata": {
    "id": "-tWMoYFa9zTw"
   },
   "source": [
    "El segundo modelo a implementar será Naïve Bayes, se volverá a usar el código fuente otorgado en los laboratorios hechos por el profesor."
   ]
  },
  {
   "cell_type": "code",
   "execution_count": null,
   "metadata": {
    "colab": {
     "base_uri": "https://localhost:8080/"
    },
    "id": "RIatZZbK4f6k",
    "outputId": "2b4bee7c-2968-4a05-eab6-f2bf2e4e7717"
   },
   "outputs": [
    {
     "name": "stdout",
     "output_type": "stream",
     "text": [
      "Datos originales\n",
      "Puntaje de métricas modelo Naïve Bayes con datos originales:\n",
      "Accuracy: 0.4786330513443337\n",
      "Precision: 0.4125807640815693\n",
      "Recall: 0.9616497829232996\n",
      "F1: 0.577425968418623\n",
      "\n",
      "Datos Sobre muestreados\n",
      "Puntaje de métricas modelo Naïve Bayes con datos sobre muestreados:\n",
      "Accuracy: 0.47623754083256553\n",
      "Precision: 0.4116136258303723\n",
      "Recall: 0.9639562228654125\n",
      "F1: 0.5768918480025982\n",
      "\n",
      "Datos sub muestreados\n",
      "Puntaje de métricas modelo Naïve Bayes con datos sub muestreados:\n",
      "Accuracy: 0.475081665131083\n",
      "Precision: 0.4111926358156643\n",
      "Recall: 0.965629522431259\n",
      "F1: 0.5767771039587244\n",
      "\n"
     ]
    }
   ],
   "source": [
    "print(\"Datos originales\")\n",
    "\n",
    "#Se usa el algoritmo GaussianNB para crear un modelo Naïve Bayes.\n",
    "bayes_orig = GaussianNB()\n",
    "\n",
    "#Se predicen los valores a partir del entrenamiento del algoritmo con los datos originales.\n",
    "pred_bayes = bayes_orig.fit(X_orig, y_orig).predict(X_test)\n",
    "\n",
    "print(\"Puntaje de métricas modelo Naïve Bayes con datos originales:\")\n",
    "print(\"Accuracy:\",accuracy_score(y_test, pred_bayes))\n",
    "print(\"Precision:\",precision_score(y_test, pred_bayes))\n",
    "print(\"Recall:\",recall_score(y_test, pred_bayes))\n",
    "print(\"F1:\",f1_score(y_test, pred_bayes))\n",
    "print()\n",
    "\n",
    "print(\"Datos Sobre muestreados\")\n",
    "\n",
    "#Se usa el algoritmo GaussianNB para crear un modelo Naïve Bayes.\n",
    "bayes_over = GaussianNB()\n",
    "\n",
    "#Se predicen los valores a partir del entrenamiento del algoritmo con los datos sobre muestreados.\n",
    "pred_bayes_over = bayes_over.fit(X_over, y_over).predict(X_test)\n",
    "\n",
    "print(\"Puntaje de métricas modelo Naïve Bayes con datos sobre muestreados:\")\n",
    "print(\"Accuracy:\",accuracy_score(y_test, pred_bayes_over))\n",
    "print(\"Precision:\",precision_score(y_test, pred_bayes_over))\n",
    "print(\"Recall:\",recall_score(y_test, pred_bayes_over))\n",
    "print(\"F1:\",f1_score(y_test, pred_bayes_over))\n",
    "print()\n",
    "\n",
    "print(\"Datos sub muestreados\")\n",
    "\n",
    "#Se usa el algoritmo GaussianNB para crear un modelo Naïve Bayes.\n",
    "bayes_sub = GaussianNB()\n",
    "\n",
    "#Se predicen los valores a partir del entrenamiento del algoritmo con los datos sub muestreados.\n",
    "pred_bayes_sub = bayes_sub.fit(X_subs, y_subs).predict(X_test)\n",
    "\n",
    "print(\"Puntaje de métricas modelo Naïve Bayes con datos sub muestreados:\")\n",
    "print(\"Accuracy:\",accuracy_score(y_test, pred_bayes_sub))\n",
    "print(\"Precision:\",precision_score(y_test, pred_bayes_sub))\n",
    "print(\"Recall:\",recall_score(y_test, pred_bayes_sub))\n",
    "print(\"F1:\",f1_score(y_test, pred_bayes_sub))\n",
    "print()"
   ]
  },
  {
   "cell_type": "markdown",
   "metadata": {
    "id": "s5OegIe9N9vs"
   },
   "source": [
    "El modelo Naïve Bayes tiene resultados muy similares en cada conjunto de entrenamiento, al parecer entre los modelos entrenados en datos originales y sub-muestreados hay una calificación casi igual a simple vista. En ese caso se opta por usar el modelo entrenado con datos sub-muestreados, ya que puede tener un menor sesgo al predecir nuevos datos."
   ]
  },
  {
   "cell_type": "markdown",
   "metadata": {
    "id": "otrUiWsx_NwZ"
   },
   "source": [
    "El tercer modelo a implementar será Linear Support Vector Classification [10]. "
   ]
  },
  {
   "cell_type": "code",
   "execution_count": null,
   "metadata": {
    "colab": {
     "base_uri": "https://localhost:8080/"
    },
    "id": "a8eZwjdA7QIi",
    "outputId": "2acc1234-b87d-4e9c-8b8f-ed9bdd353fe2"
   },
   "outputs": [
    {
     "name": "stdout",
     "output_type": "stream",
     "text": [
      "Datos originales\n"
     ]
    },
    {
     "name": "stderr",
     "output_type": "stream",
     "text": [
      "/usr/local/lib/python3.7/dist-packages/sklearn/svm/_base.py:1208: ConvergenceWarning: Liblinear failed to converge, increase the number of iterations.\n",
      "  ConvergenceWarning,\n"
     ]
    },
    {
     "name": "stdout",
     "output_type": "stream",
     "text": [
      "Puntaje de métricas modelo Support Vector Machines con datos originales:\n",
      "Accuracy: 0.4103023703827791\n",
      "Precision: 0.384803576457336\n",
      "Recall: 0.9887391461649783\n",
      "F1: 0.5539985809852017\n",
      "\n",
      "Datos Sobre muestreados\n"
     ]
    },
    {
     "name": "stderr",
     "output_type": "stream",
     "text": [
      "/usr/local/lib/python3.7/dist-packages/sklearn/svm/_base.py:1208: ConvergenceWarning: Liblinear failed to converge, increase the number of iterations.\n",
      "  ConvergenceWarning,\n"
     ]
    },
    {
     "name": "stdout",
     "output_type": "stream",
     "text": [
      "Puntaje de métricas modelo Support Vector Machines con datos sobre muestreados:\n",
      "Accuracy: 0.43442499371806687\n",
      "Precision: 0.3942562538576045\n",
      "Recall: 0.9821816208393632\n",
      "F1: 0.5626570636544989\n",
      "\n",
      "Datos sub muestreados\n",
      "Puntaje de métricas modelo Support Vector Machines con datos sub muestreados:\n",
      "Accuracy: 0.6365022196163833\n",
      "Precision: 0.9578713968957872\n",
      "Recall: 0.019536903039073805\n",
      "F1: 0.038292780215396886\n",
      "\n"
     ]
    },
    {
     "name": "stderr",
     "output_type": "stream",
     "text": [
      "/usr/local/lib/python3.7/dist-packages/sklearn/svm/_base.py:1208: ConvergenceWarning: Liblinear failed to converge, increase the number of iterations.\n",
      "  ConvergenceWarning,\n"
     ]
    }
   ],
   "source": [
    "print(\"Datos originales\")\n",
    "\n",
    "#Se crea el modelo SVM.\n",
    "SVM_orig = LinearSVC(random_state=0, tol=1e-5)\n",
    "\n",
    "#Se entrena el modelo SVM con los datos originales.\n",
    "SVM_entrenado_orig = SVM_orig.fit(X_orig, y_orig)\n",
    "\n",
    "#Se predicen los valores a partir del entrenamiento del modelo.\n",
    "pred_SVM = SVM_entrenado_orig.predict(X_test)\n",
    "\n",
    "print(\"Puntaje de métricas modelo Support Vector Machines con datos originales:\")\n",
    "print(\"Accuracy:\",accuracy_score(y_test, pred_SVM))\n",
    "print(\"Precision:\",precision_score(y_test, pred_SVM))\n",
    "print(\"Recall:\",recall_score(y_test, pred_SVM))\n",
    "print(\"F1:\",f1_score(y_test, pred_SVM))\n",
    "print()\n",
    "\n",
    "print(\"Datos Sobre muestreados\")\n",
    "\n",
    "#Se crea el modelo SVM.\n",
    "SVM_over = LinearSVC(random_state=0, tol=1e-5)\n",
    "\n",
    "#Se entrena el modelo SVM con los datos sobre muestreados.\n",
    "SVM_entrenado_over = SVM_over.fit(X_over, y_over)\n",
    "\n",
    "#Se predicen los valores a partir del entrenamiento del modelo.\n",
    "pred_SVM_over = SVM_entrenado_over.predict(X_test)\n",
    "\n",
    "print(\"Puntaje de métricas modelo Support Vector Machines con datos sobre muestreados:\")\n",
    "print(\"Accuracy:\",accuracy_score(y_test, pred_SVM_over))\n",
    "print(\"Precision:\",precision_score(y_test, pred_SVM_over))\n",
    "print(\"Recall:\",recall_score(y_test, pred_SVM_over))\n",
    "print(\"F1:\",f1_score(y_test, pred_SVM_over))\n",
    "print()\n",
    "\n",
    "print(\"Datos sub muestreados\")\n",
    "\n",
    "#Se crea el modelo SVM.\n",
    "SVM_sub = LinearSVC(random_state=0, tol=1e-5)\n",
    "\n",
    "#Se entrena el modelo SVM con los datos sobre muestreados.\n",
    "SVM_entrenado_sub = SVM_sub.fit(X_subs, y_subs)\n",
    "\n",
    "#Se predicen los valores a partir del entrenamiento del modelo.\n",
    "pred_SVM_sub = SVM_entrenado_sub.predict(X_test)\n",
    "\n",
    "print(\"Puntaje de métricas modelo Support Vector Machines con datos sub muestreados:\")\n",
    "print(\"Accuracy:\",accuracy_score(y_test, pred_SVM_sub))\n",
    "print(\"Precision:\",precision_score(y_test, pred_SVM_sub))\n",
    "print(\"Recall:\",recall_score(y_test, pred_SVM_sub))\n",
    "print(\"F1:\",f1_score(y_test, pred_SVM_sub))\n",
    "print()"
   ]
  },
  {
   "cell_type": "markdown",
   "metadata": {
    "id": "nFFi1SSwPfsV"
   },
   "source": [
    "El modelo SVM tiene resultados diferentes en cada conjunto de entrenamiento, aún así da la impresión que el promedio de sus métricas es similar. En ese caso, se opta por usar el modelo entrenado con datos sub-muestreados, ya que a pesar de tener un bajo valor en Recall las demás métricas son bastante altas puede haber un menor sesgo."
   ]
  },
  {
   "cell_type": "markdown",
   "metadata": {
    "id": "fFO8xZ-BRL43"
   },
   "source": [
    "Finalmente, de entre todos los modelos evaluados se elige Árbol de clasificación entrenado con datos originales, ya que tiene un puntaje en métricas superior que los demás modelo, y en general puede presentar más aciertos y menos errores falsos positivos o falsos negativos."
   ]
  },
  {
   "cell_type": "markdown",
   "metadata": {
    "id": "3h6TUPpZZ6ft"
   },
   "source": [
    "# **Conclusiones**\n",
    "\n",
    "A partir de los resultados, se puede concluir que un modelo de clasificación supervisada puede predecir la cancelación de una reserva. Este tipo de información puede ser de utilidad para los hoteles dependiendo de la exactitud del modelo, ya que si se sabe de antemano que un cliente cancelará la reserva se puede empezar a ofrecer la habitación desde antes.\n",
    "\n",
    "Además, según lo visto en el comportamiento de cada cliente, los hoteles deberían atraer adultos acompañados con niños, bebes o ambos; ya que en general tienen un tiempo menor de llegada y una tarifa media superior a los adultos solitarios en su estadía.\n",
    "\n",
    "En cuanto a las debilidades del trabajo:\n",
    "- Las preguntas o problemáticas que se plantearon en general eran muy simples, debido a que 3 de 4 preguntas se pudieron responder en el EDA.\n",
    "- Se pudieron haber evaluado más modelos de clasificación sino fuera por una mala gestión del tiempo.\n",
    "\n",
    "En cuanto a los trabajo futuros:\n",
    "- Una mejora en los modelos de clasificación se puede realizar a través de seleccionar los mejores hiperparámetros para cada modelo, de esta manera se puede mejorar el puntaje en las métricas.\n",
    "- Se pueden eliminar los valores outliers o ruido encontrados en el diagrama de cajas y bigotes, lo cual queda para un trabajo futuro con tal de ver si influye en los resultados de las métricas."
   ]
  },
  {
   "cell_type": "markdown",
   "metadata": {
    "id": "zkWDIoTYAX-e"
   },
   "source": [
    "# **Contribuciones**\n",
    "- Alex Muñoz: Exploración de datos y preguntas.\n",
    "- Giselle Acuña: Motivación y preprocesamiento.\n",
    "- Bastián Barrientos y Alex Muñoz: Propuesta experimental y resultado preliminar."
   ]
  },
  {
   "cell_type": "markdown",
   "metadata": {
    "id": "xTxoJB_gAPEN"
   },
   "source": [
    "# **Referencias**\n",
    "\n",
    "[1] Kumar, B. (2021, 17 octubre). Pandas Replace Nan With 0. Python Guides. https://pythonguides.com/pandas-replace-nan-with-0/\n",
    "\n",
    "[2] Myrianthous, G. (2022, 26 febrero). How to Count NaN Values in pandas | Towards Data Science. Medium. https://towardsdatascience.com/count-nan-values-pandas-27a50acfc929\n",
    "\n",
    "[3] Hotel Booking. (2021, 29 junio). Kaggle. https://www.kaggle.com/datasets/mojtaba142/hotel-booking\n",
    "\n",
    "[4] Petrou, T. (2021, 29 noviembre). Finding the Percentage of Missing Values in a Pandas DataFrame. Medium. https://medium.com/dunder-data/finding-the-percentage-of-missing-values-in-a-pandas-dataframe-a04fa00f84ab\n",
    "\n",
    "[5] Yan, N. (2022, 4 junio). How to delete a column in pandas. Educative: Interactive Courses for Software Developers. https://www.educative.io/edpresso/how-to-delete-a-column-in-pandas\n",
    "\n",
    "[6] Custer, C. (2022, 13 abril). Tutorial: Add a Column to a Pandas DataFrame Based on an If-Else Condition. Dataquest. https://www.dataquest.io/blog/tutorial-add-column-pandas-dataframe-based-on-if-else-condition/\n",
    "\n",
    "[7] Z. (2022, 20 abril). How to Calculate Conditional Mean in Pandas (With Examples). Statology. https://www.statology.org/conditional-mean-pandas/\n",
    "\n",
    "[8] Joshi, S. (2021, 25 febrero). Función Pandas DataFrame DataFrame.boxplot(). Delft Stack. https://www.delftstack.com/es/api/python-pandas/pandas-dataframe-dataframe.boxplot-function/\n",
    "\n",
    "[9] GeeksforGeeks. (2021, 4 marzo). Bar Plot in Matplotlib. https://www.geeksforgeeks.org/bar-plot-in-matplotlib/\n",
    "\n",
    "[10] sklearn.svm.LinearSVC. (s. f.). Scikit-Learn. Recuperado 28 de junio de 2022, de https://scikit-learn.org/stable/modules/generated/sklearn.svm.LinearSVC.html\n",
    "\n",
    "[11] (2022, 29 junio). ajeloy/Hito3_G6_repositorio. GitHub. Recuperado 29 de junio de 2022, de https://github.com/ajeloy/Hito3_G6_repositorio\n"
   ]
  }
 ],
 "metadata": {
  "colab": {
   "collapsed_sections": [],
   "name": "Hito3_G6_reporte.ipynb",
   "provenance": []
  },
  "kernelspec": {
   "display_name": "Python 3 (ipykernel)",
   "language": "python",
   "name": "python3"
  },
  "language_info": {
   "codemirror_mode": {
    "name": "ipython",
    "version": 3
   },
   "file_extension": ".py",
   "mimetype": "text/x-python",
   "name": "python",
   "nbconvert_exporter": "python",
   "pygments_lexer": "ipython3",
   "version": "3.9.7"
  }
 },
 "nbformat": 4,
 "nbformat_minor": 1
}
